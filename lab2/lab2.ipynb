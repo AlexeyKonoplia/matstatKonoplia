{
 "cells": [
  {
   "cell_type": "code",
   "execution_count": 5,
   "metadata": {},
   "outputs": [],
   "source": [
    "import numpy as np\n",
    "from scipy.stats import f\n"
   ]
  },
  {
   "cell_type": "code",
   "execution_count": 6,
   "metadata": {},
   "outputs": [],
   "source": [
    "def calculate_CI(n1, n2, S1, S2, alpha):\n",
    "    lower_bound = (n1 / n2) * (S1 / S2) / f.ppf(1 - alpha / 2, n1 - 1, n2 - 1)\n",
    "    upper_bound = (n1 / n2) * (S1 / S2) / f.ppf(alpha / 2, n1 - 1, n2 - 1)\n",
    "    return (lower_bound, upper_bound)"
   ]
  },
  {
   "cell_type": "code",
   "execution_count": 7,
   "metadata": {},
   "outputs": [],
   "source": [
    "mu1 = 0\n",
    "mu2 = 0\n",
    "sigma1_sq = 2\n",
    "sigma2_sq = 1\n",
    "alpha = 0.05\n",
    "n1 = 25\n",
    "n2 = 25  # Обе выборки имеют одинаковый объём для простоты"
   ]
  },
  {
   "cell_type": "code",
   "execution_count": 17,
   "metadata": {},
   "outputs": [
    {
     "name": "stdout",
     "output_type": "stream",
     "text": [
      "95%-ый доверительный интервал для n1 = n2 = 25: 0.958\n"
     ]
    }
   ],
   "source": [
    "# Создание списков для хранения результатов\n",
    "coverage_count_n25 = 0\n",
    "\n",
    "# Проведение эксперимента 1000 раз\n",
    "for _ in range(1000):\n",
    "    # Генерация выборок\n",
    "    X1 = np.random.normal(mu1, np.sqrt(sigma1_sq), n1)\n",
    "    X2 = np.random.normal(mu2, np.sqrt(sigma2_sq), n2)\n",
    "    \n",
    "    # Вычисление выборочных смещённых дисперсий\n",
    "    S1_sq = np.var(X1, ddof=1)\n",
    "    S2_sq = np.var(X2, ddof=1)\n",
    "    \n",
    "    # Расчёт доверительного интервала\n",
    "    lower, upper = calculate_CI(n1, n2, S1_sq, S2_sq, alpha)\n",
    "    \n",
    "    # Проверка попадания истинного значения в интервал\n",
    "    if lower < sigma1_sq / sigma2_sq < upper:\n",
    "        coverage_count_n25 += 1\n",
    "\n",
    "# Вывод результатов\n",
    "print(\"95%-ый доверительный интервал для n1 = n2 = 25:\", coverage_count_n25 / 1000)"
   ]
  },
  {
   "cell_type": "code",
   "execution_count": 18,
   "metadata": {},
   "outputs": [
    {
     "name": "stdout",
     "output_type": "stream",
     "text": [
      "95%-ый доверительный интервал для n1 = n2 = 10000: 0.943\n"
     ]
    }
   ],
   "source": [
    "# Повторяем для выборок объёма 10000\n",
    "n1 = 10000\n",
    "n2 = 10000\n",
    "coverage_count_n10000 = 0\n",
    "\n",
    "for _ in range(1000):\n",
    "    X1 = np.random.normal(mu1, np.sqrt(sigma1_sq), n1)\n",
    "    X2 = np.random.normal(mu2, np.sqrt(sigma2_sq), n2)\n",
    "    S1_sq = np.var(X1, ddof=1)\n",
    "    S2_sq = np.var(X2, ddof=1)\n",
    "    lower, upper = calculate_CI(n1, n2, S1_sq, S2_sq, alpha)\n",
    "    if lower < sigma1_sq / sigma2_sq < upper:\n",
    "        coverage_count_n10000 += 1\n",
    "\n",
    "print(\"95%-ый доверительный интервал для n1 = n2 = 10000:\", coverage_count_n10000 / 1000)"
   ]
  },
  {
   "cell_type": "code",
   "execution_count": 20,
   "metadata": {},
   "outputs": [],
   "source": [
    "import scipy.stats as sps\n",
    "import numpy as np"
   ]
  },
  {
   "cell_type": "code",
   "execution_count": 22,
   "metadata": {},
   "outputs": [
    {
     "name": "stdout",
     "output_type": "stream",
     "text": [
      "[0.02531781]\n",
      "[3.68887945]\n"
     ]
    }
   ],
   "source": [
    "# x = sps.uniform(-5, 10).rvs(size=25)\n",
    "q1 = sps.gamma(1).ppf([0.025])\n",
    "q2 = sps.gamma(1).ppf([0.975])\n",
    "print(q1, q2, sep='\\n')\n"
   ]
  },
  {
   "cell_type": "code",
   "execution_count": 34,
   "metadata": {},
   "outputs": [
    {
     "name": "stdout",
     "output_type": "stream",
     "text": [
      "946/1000\n"
     ]
    }
   ],
   "source": [
    "# 25\n",
    "c = 0\n",
    "for i in range(1000):\n",
    "    x = sps.uniform(-5, 10).rvs(size=25)\n",
    "    x1 = min(x)\n",
    "    left = x1 / ((2*q1 / 25) - 1)\n",
    "    right = x1 / ((2*q2 / 25) - 1)\n",
    "    if (left <= 5) and (right >= 5):\n",
    "        c += 1\n",
    "print(f\"{c}/1000\")"
   ]
  },
  {
   "cell_type": "code",
   "execution_count": 40,
   "metadata": {},
   "outputs": [
    {
     "name": "stdout",
     "output_type": "stream",
     "text": [
      "956\n"
     ]
    }
   ],
   "source": [
    "c = 0\n",
    "left = x1 / ((2*q1 / 10000) - 1)\n",
    "right = x1 / ((2*q2 / 10000) - 1)\n",
    "for i in range(1000):\n",
    "  X = sps.uniform(-5, 10).rvs(size=10000)\n",
    "  x1 = min(X)\n",
    "  left = x1 / ((2*q1 / 10000) - 1)\n",
    "  right = x1 / ((2*q2 / 10000) - 1)\n",
    "  if (left <= 5) and (right >= 5):\n",
    "    c += 1\n",
    "\n",
    "print(c)"
   ]
  }
 ],
 "metadata": {
  "kernelspec": {
   "display_name": "Python 3",
   "language": "python",
   "name": "python3"
  },
  "language_info": {
   "codemirror_mode": {
    "name": "ipython",
    "version": 3
   },
   "file_extension": ".py",
   "mimetype": "text/x-python",
   "name": "python",
   "nbconvert_exporter": "python",
   "pygments_lexer": "ipython3",
   "version": "3.11.9"
  }
 },
 "nbformat": 4,
 "nbformat_minor": 2
}
