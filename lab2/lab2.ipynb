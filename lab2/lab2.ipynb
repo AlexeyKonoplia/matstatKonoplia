{
 "cells": [
  {
   "cell_type": "code",
   "execution_count": 21,
   "metadata": {},
   "outputs": [
    {
     "name": "stdout",
     "output_type": "stream",
     "text": [
      "Первый квантиль: 0.4406689344936126\n",
      "Второй квантиль: 2.2692772776214265\n",
      "Левая граница доверительного интервала: 0.8936531055277632\n",
      "Правая граница доверительного интервала: 4.601973335788594\n"
     ]
    }
   ],
   "source": [
    "#Импорт библиотек\n",
    "import scipy.stats as sps\n",
    "import numpy as np\n",
    "\n",
    "n_1, n_2 = 25, 25\n",
    "#Квантили\n",
    "q1 = sps.f.ppf(0.025, 24, 24)\n",
    "q2 = sps.f.ppf(0.975, 24, 24)\n",
    "print(f'Первый квантиль: {q1}')\n",
    "print(f'Второй квантиль: {q2}')\n",
    "\n",
    "# Левая граница доверительного интервала\n",
    "left = (n_1 * (n_2 - 1) * X1.var() / (n_2 * (n_1 - 1) * X2.var())) * q1\n",
    "print(f'Левая граница доверительного интервала: {left}')\n",
    "\n",
    "# Правая граница доверительного интервала\n",
    "right = (n_1 * (n_2 - 1) * X1.var() / (n_2 * (n_1 - 1) * X2.var())) * q2\n",
    "print(f'Правая граница доверительного интервала: {right}')"
   ]
  },
  {
   "cell_type": "code",
   "execution_count": 22,
   "metadata": {},
   "outputs": [
    {
     "name": "stdout",
     "output_type": "stream",
     "text": [
      "941\n"
     ]
    }
   ],
   "source": [
    "c = 0\n",
    "for i in range(1000):\n",
    "    X1 = sps.norm(loc=0, scale=np.sqrt(2)).rvs(size=25)\n",
    "    X2 = sps.norm(loc=0, scale=np.sqrt(1)).rvs(size=25)\n",
    "    left = (n_1 * (n_2 - 1) * X1.var() / (n_2 * (n_1 - 1) * X2.var())) * q1  \n",
    "    right = (n_1 * (n_2 - 1) * X1.var() / (n_2 * (n_1 - 1) * X2.var())) * q2\n",
    "    if (left <= 2) and (right >= 2):\n",
    "        c += 1\n",
    "\n",
    "print(c)"
   ]
  },
  {
   "cell_type": "code",
   "execution_count": 24,
   "metadata": {},
   "outputs": [
    {
     "name": "stdout",
     "output_type": "stream",
     "text": [
      "948\n"
     ]
    }
   ],
   "source": [
    "k = 0\n",
    "q1 = sps.f.ppf(0.025, 10000, 10000)\n",
    "q2 = sps.f.ppf(0.975, 10000, 10000)\n",
    "for i in range(1000):\n",
    "    X1 = sps.norm(loc=0, scale=np.sqrt(2)).rvs(size=10000)\n",
    "    X2 = sps.norm(loc=0, scale=np.sqrt(1)).rvs(size=10000)\n",
    "    left = (n_1 * (n_2 - 1) * X1.var() / (n_2 * (n_1 - 1) * X2.var())) * q1  \n",
    "    right = (n_1 * (n_2 - 1) * X1.var() / (n_2 * (n_1 - 1) * X2.var())) * q2\n",
    "    if (left <= 2) and (right >= 2):\n",
    "        k += 1\n",
    "\n",
    "print(k)"
   ]
  },
  {
   "cell_type": "markdown",
   "metadata": {},
   "source": [
    "задание 2\n"
   ]
  },
  {
   "cell_type": "code",
   "execution_count": 20,
   "metadata": {},
   "outputs": [],
   "source": [
    "import scipy.stats as sps\n",
    "import numpy as np"
   ]
  },
  {
   "cell_type": "code",
   "execution_count": 22,
   "metadata": {},
   "outputs": [
    {
     "name": "stdout",
     "output_type": "stream",
     "text": [
      "[0.02531781]\n",
      "[3.68887945]\n"
     ]
    }
   ],
   "source": [
    "# x = sps.uniform(-5, 10).rvs(size=25)\n",
    "q1 = sps.gamma(1).ppf([0.025])\n",
    "q2 = sps.gamma(1).ppf([0.975])\n",
    "print(q1, q2, sep='\\n')\n"
   ]
  },
  {
   "cell_type": "code",
   "execution_count": 34,
   "metadata": {},
   "outputs": [
    {
     "name": "stdout",
     "output_type": "stream",
     "text": [
      "946/1000\n"
     ]
    }
   ],
   "source": [
    "# 25\n",
    "c = 0\n",
    "for i in range(1000):\n",
    "    x = sps.uniform(-5, 10).rvs(size=25)\n",
    "    x1 = min(x)\n",
    "    left = x1 / ((2*q1 / 25) - 1)\n",
    "    right = x1 / ((2*q2 / 25) - 1)\n",
    "    if (left <= 5) and (right >= 5):\n",
    "        c += 1\n",
    "print(f\"{c}/1000\")"
   ]
  },
  {
   "cell_type": "code",
   "execution_count": 40,
   "metadata": {},
   "outputs": [
    {
     "name": "stdout",
     "output_type": "stream",
     "text": [
      "956\n"
     ]
    }
   ],
   "source": [
    "# 10_000\n",
    "c = 0\n",
    "left = x1 / ((2*q1 / 10000) - 1)\n",
    "right = x1 / ((2*q2 / 10000) - 1)\n",
    "for i in range(1000):\n",
    "  X = sps.uniform(-5, 10).rvs(size=10000)\n",
    "  x1 = min(X)\n",
    "  left = x1 / ((2*q1 / 10000) - 1)\n",
    "  right = x1 / ((2*q2 / 10000) - 1)\n",
    "  if (left <= 5) and (right >= 5):\n",
    "    c += 1\n",
    "\n",
    "print(c)"
   ]
  }
 ],
 "metadata": {
  "kernelspec": {
   "display_name": "Python 3",
   "language": "python",
   "name": "python3"
  },
  "language_info": {
   "codemirror_mode": {
    "name": "ipython",
    "version": 3
   },
   "file_extension": ".py",
   "mimetype": "text/x-python",
   "name": "python",
   "nbconvert_exporter": "python",
   "pygments_lexer": "ipython3",
   "version": "3.11.9"
  }
 },
 "nbformat": 4,
 "nbformat_minor": 2
}
